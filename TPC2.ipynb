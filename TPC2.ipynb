{
 "cells": [
  {
   "cell_type": "markdown",
   "id": "101f0ac6",
   "metadata": {},
   "source": [
    "__Idenficador:__ TPC2  \n",
    "__Título do Trabalho:__ Adivinha o número que pensei  \n",
    "__Data de ínicio:__ 2021-10-11  \n",
    "__Data do Fim:__ 2021-10-17  \n",
    "__Supervisor:__ José Carlos Ramalho  \n",
    "__Autor:__ Luís Manuel Mendonça Gonçalves A95637  \n",
    " #### __Resumo:__  \n",
    " \n",
    " \n",
    "Neste trabalho foi pedido que fosse desenvolvido um programa capaz de adivinhar um número inteiro, pensado pelo usuário do programa, em que este podia apenas dizer se o número dito pelo programa, está acima, abaixo, ou igual ao pensado.\n",
    "\n",
    "Neste programa foi utilizado um programa de procura binária, numa lista de números entre 0 a 100 inclusive. Através da procura binária o programa encontra o número pensado em 7 tentativas. \n",
    "\n",
    "Foram criadas 3 funções para o funcionamento do programa, a função _inicio()_ onde o utilizador escolhe se quer começar ou continuar a jogar, ou acabar o jogo. A função _proc()_, onde seria a base do algoritmo da procura binária, onde devide a lista onde os números possíveis em duas sendo dividas, pelo valor médio, onde depois o usuário diz se o número que pensou está abaixo, a cima, ou é p próprio número, na função _localizar()_, que retorna na função _proc()_ com uma lista reduzida com o que foi dito na função _localizar()_.\n",
    "\n",
    "Quando o programa adivinha o número é indicado em quantas tentativas o programa adivinhou, e depois volta á função _inicio()_.\n"
   ]
  },
  {
   "cell_type": "code",
   "execution_count": 1,
   "id": "e183723d",
   "metadata": {},
   "outputs": [],
   "source": [
    "def inicio():\n",
    "    quantidade=0\n",
    "    try:\n",
    "         jogo=int(input(\"\"\"Quer jogar um jogo, então ecreva 1\n",
    "Quer acabar o jogo, então escreva 2\n",
    "\"\"\"))\n",
    "         if jogo != 1 and jogo != 2:\n",
    "               print (\"Caracter Inválido!\")\n",
    "               return (inicio())\n",
    "         elif jogo == 1:\n",
    "            localizacao=\"0\"\n",
    "            valores=[]\n",
    "            for i in range (101):\n",
    "                valores.append(i)\n",
    "            print(\"\"\"\n",
    "Vou tentar adivinhar o número que pensar!\n",
    "Pense num número de \"\"\",valores[0], \" a \", valores[-1],\"!\")\n",
    "            proc(valores,localizacao)\n",
    "            return(proc())\n",
    "    except:\n",
    "        print(\"Caracter Inválido!\")\n",
    "        return (inicio())\n",
    "    "
   ]
  },
  {
   "cell_type": "code",
   "execution_count": null,
   "id": "8d937020",
   "metadata": {},
   "outputs": [],
   "source": [
    "def proc (valores,localizacao, quantidade):\n",
    "    quantidade+=1\n",
    "    npossivel=(valores[0]+valores[-1])/2\n",
    "    try:\n",
    "        npossivel=int(npossivel)\n",
    "    except:\n",
    "        if localizacao=='menor':\n",
    "            npossivel-=0.5\n",
    "        elif localizacao=='maior':\n",
    "            npossivel+=0.5\n",
    "    print(\"\\nAcho que o número que escolheu é\", int(npossivel))\n",
    "    return(localizar(valores,npossivel,quantidade))"
   ]
  },
  {
   "cell_type": "code",
   "execution_count": null,
   "id": "5eae22dc",
   "metadata": {},
   "outputs": [],
   "source": [
    "def localizar(valores, npossivel,quantidade):\n",
    "    localizacao=input(\"\"\"Caso o número que pensou seja menor escreva - menor\n",
    "Caso o número que pensou seja maior escreva - maior\n",
    "Caso o número que pensou seja este  escreva - igual\n",
    "\"\"\")\n",
    "    zonacorte=int(len(valores)/2)\n",
    "    if localizacao != \"menor\" and localizacao !=\"maior\" and localizacao !=\"igual\":\n",
    "         print(\"Por favor intruduza um caracter válido!\")\n",
    "         return localizar(valores,npossivel)\n",
    "    elif len(valores)==1:\n",
    "        print(\"Ah só pode ser o número \", valores[0],\", tive de usar \", tentativas, \"!\")\n",
    "    else:\n",
    "         if localizacao=='igual':\n",
    "             print(\"\\nDepois de \", quantidade,\" tentativas, acertei o número!\")\n",
    "             return (inicio())\n",
    "         elif localizacao==\"menor\":\n",
    "             valores=valores[0:zonacorte]\n",
    "             return (proc(valores,localizacao))\n",
    "         elif localizacao==\"maior\":\n",
    "            valores=valores[zonacorte:]\n",
    "            return (proc(valores,localizacao))"
   ]
  },
  {
   "cell_type": "code",
   "execution_count": null,
   "id": "2d604de3",
   "metadata": {
    "scrolled": true
   },
   "outputs": [],
   "source": [
    "inicio()"
   ]
  }
 ],
 "metadata": {
  "kernelspec": {
   "display_name": "Python 3",
   "language": "python",
   "name": "python3"
  },
  "language_info": {
   "codemirror_mode": {
    "name": "ipython",
    "version": 3
   },
   "file_extension": ".py",
   "mimetype": "text/x-python",
   "name": "python",
   "nbconvert_exporter": "python",
   "pygments_lexer": "ipython3",
   "version": "3.8.8"
  }
 },
 "nbformat": 4,
 "nbformat_minor": 5
}
